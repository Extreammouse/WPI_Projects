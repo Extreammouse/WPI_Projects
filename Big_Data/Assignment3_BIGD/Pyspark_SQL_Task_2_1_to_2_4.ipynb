{
  "cells": [
    {
      "cell_type": "code",
      "execution_count": null,
      "id": "59630de3",
      "metadata": {
        "id": "59630de3",
        "outputId": "48f0a4fe-44fa-4092-8146-03f46a34b848"
      },
      "outputs": [
        {
          "name": "stdout",
          "output_type": "stream",
          "text": [
            "Requirement already satisfied: pyspark in c:\\users\\nived\\anaconda3\\lib\\site-packages (3.4.1)\n",
            "Requirement already satisfied: py4j==0.10.9.7 in c:\\users\\nived\\anaconda3\\lib\\site-packages (from pyspark) (0.10.9.7)\n"
          ]
        }
      ],
      "source": [
        "!pip install pyspark"
      ]
    },
    {
      "cell_type": "markdown",
      "id": "9972ba77",
      "metadata": {
        "id": "9972ba77"
      },
      "source": [
        "## Task 2.1"
      ]
    },
    {
      "cell_type": "code",
      "execution_count": null,
      "id": "510ab232",
      "metadata": {
        "id": "510ab232",
        "outputId": "5d0209f1-5a6c-4a19-adfb-54d5d4e29964"
      },
      "outputs": [
        {
          "name": "stdout",
          "output_type": "stream",
          "text": [
            "+-------+------+----------+-------------+--------------------+\n",
            "|TransID|CustID|TransTotal|TransNumItems|           TransDesc|\n",
            "+-------+------+----------+-------------+--------------------+\n",
            "|      9| 48266|    566.61|            2|sVVwWicTRmdCBUcOo...|\n",
            "|     13| 35742|    304.45|           15|xKFvpjhdoUnAdyLIO...|\n",
            "|     16| 27652|     17.72|            4|qZGqmCCXHJonYvQym...|\n",
            "|     18|  1953|    355.19|           11|BeBxWmIJhWoyVrtXW...|\n",
            "|     19|  6141|    196.05|           15|cqgcAazCfjDQdUFrN...|\n",
            "|     21| 15248|     88.59|           11|ilaMeBpUKdYANtcSI...|\n",
            "|     25| 36782|    148.57|            9|CnWqahdwiCAoKSHrX...|\n",
            "|     29| 45963|     237.1|            2|NbEqOCtERMsKPOSsX...|\n",
            "|     31| 27494|    353.71|           10|xijqTLuzfNLsxsclx...|\n",
            "|     36|   426|    377.13|            6|XvlczPJkWeufSWdwr...|\n",
            "|     37| 49730|    355.75|           10|lxaHGTUAJjQThpoyZ...|\n",
            "|     39| 45754|    218.12|            3|VswpfdFJukOdRRHUD...|\n",
            "|     49|  6339|      30.3|            4|vcJJdKLNvPeTRIZZE...|\n",
            "|     53| 17336|    212.54|            2|uFqmIsHCnaXVdmHkF...|\n",
            "|     56| 30109|    402.09|           15|vQlnNFXJSGIyZqqZr...|\n",
            "|     57| 35143|     195.2|           14|BAHabhEkBwoxZkjxg...|\n",
            "|     58|  8181|    282.95|           13|kDDsIqvKHZNzaCnio...|\n",
            "|     60|  5165|     28.28|           13|OhhegQNFCzrFtWsHm...|\n",
            "|     63| 41199|     87.64|            1|BQyvHjJcRzygqxaOM...|\n",
            "|     73| 18966|    535.95|            8|mXuglxwyzgJIUHbvJ...|\n",
            "+-------+------+----------+-------------+--------------------+\n",
            "only showing top 20 rows\n",
            "\n"
          ]
        }
      ],
      "source": [
        "from pyspark.sql import SparkSession\n",
        "\n",
        "spark = SparkSession.builder.appName(\"Task2\").getOrCreate()\n",
        "\n",
        "purchases_df = spark.read.csv(\"transactions.csv\", header=True, inferSchema=True)\n",
        "purchases_df.createOrReplaceTempView(\"PurchasesTable\")\n",
        "\n",
        "query = \"\"\"\n",
        "    SELECT *\n",
        "    FROM PurchasesTable\n",
        "    WHERE TransTotal <= 600\n",
        "\"\"\"\n",
        "\n",
        "filtered_purchases_df = spark.sql(query)\n",
        "\n",
        "filtered_purchases_df.show()\n",
        "\n",
        "spark.stop()"
      ]
    },
    {
      "cell_type": "markdown",
      "id": "d81a0d37",
      "metadata": {
        "id": "d81a0d37"
      },
      "source": [
        "## Task 2.2"
      ]
    },
    {
      "cell_type": "code",
      "execution_count": null,
      "id": "a667a103",
      "metadata": {
        "id": "a667a103",
        "outputId": "af8292e9-ee1b-4b6a-ccb5-2dc6857cd167"
      },
      "outputs": [
        {
          "name": "stdout",
          "output_type": "stream",
          "text": [
            "+-------------+--------------------+--------------------+--------------------+\n",
            "|TransNumItems|              Median|       MinTransTotal|       MaxTransTotal|\n",
            "+-------------+--------------------+--------------------+--------------------+\n",
            "|           12|3.0229836060000014E7|3.0229836060000014E7|3.0229836060000014E7|\n",
            "|            1|3.0174859800000016E7|3.0174859800000016E7|3.0174859800000016E7|\n",
            "|           13|       3.017066666E7|       3.017066666E7|       3.017066666E7|\n",
            "|            6|3.0032788969999995E7|3.0032788969999995E7|3.0032788969999995E7|\n",
            "|            3|3.0117998709999997E7|3.0117998709999997E7|3.0117998709999997E7|\n",
            "|            5|       2.991866354E7|       2.991866354E7|       2.991866354E7|\n",
            "|           15|3.0145407620000035E7|3.0145407620000035E7|3.0145407620000035E7|\n",
            "|            9|3.0179619500000015E7|3.0179619500000015E7|3.0179619500000015E7|\n",
            "|            4|       3.010834049E7|       3.010834049E7|       3.010834049E7|\n",
            "|            8|3.0081506270000014E7|3.0081506270000014E7|3.0081506270000014E7|\n",
            "|            7|3.0059930630000006E7|3.0059930630000006E7|3.0059930630000006E7|\n",
            "|           10|       3.025385748E7|       3.025385748E7|       3.025385748E7|\n",
            "|           11|3.0164952750000022E7|3.0164952750000022E7|3.0164952750000022E7|\n",
            "|           14|3.0004064220000006E7|3.0004064220000006E7|3.0004064220000006E7|\n",
            "|            2|3.0099490270000003E7|3.0099490270000003E7|3.0099490270000003E7|\n",
            "+-------------+--------------------+--------------------+--------------------+\n",
            "\n"
          ]
        }
      ],
      "source": [
        "from pyspark.sql.functions import expr\n",
        "\n",
        "spark = SparkSession.builder.appName(\"Task2\").getOrCreate()\n",
        "\n",
        "purchases_df = spark.read.csv(\"transactions.csv\", header=True, inferSchema=True)\n",
        "\n",
        "purchases_df.createOrReplaceTempView(\"PurchasesTable\")\n",
        "\n",
        "query = \"\"\"\n",
        "    SELECT *\n",
        "    FROM PurchasesTable\n",
        "    WHERE TransTotal <= 600\n",
        "\"\"\"\n",
        "\n",
        "filtered_purchases_df = spark.sql(query)\n",
        "filtered_purchases_df.createOrReplaceTempView(\"FilteredPurchasesTable\")\n",
        "\n",
        "query = \"\"\"\n",
        "    SELECT\n",
        "        TransNumItems,\n",
        "        percentile_approx(TransTotal, 0.5) AS Median,\n",
        "        MIN(TransTotal) AS MinTransTotal,\n",
        "        MAX(TransTotal) AS MaxTransTotal\n",
        "    FROM (\n",
        "        SELECT\n",
        "            TransNumItems,\n",
        "            SUM(TransTotal) AS TransTotal\n",
        "        FROM FilteredPurchasesTable\n",
        "        GROUP BY TransNumItems\n",
        "    )\n",
        "    GROUP BY TransNumItems\n",
        "\"\"\"\n",
        "\n",
        "result_df = spark.sql(query)\n",
        "\n",
        "result_df.show()\n",
        "\n",
        "spark.stop()"
      ]
    },
    {
      "cell_type": "markdown",
      "id": "b523366d",
      "metadata": {
        "id": "b523366d"
      },
      "source": [
        "## Task 2.3"
      ]
    },
    {
      "cell_type": "code",
      "execution_count": null,
      "id": "531206e3",
      "metadata": {
        "id": "531206e3",
        "outputId": "2f3e9176-8c7d-44c5-b8fa-8738b16343fd"
      },
      "outputs": [
        {
          "name": "stdout",
          "output_type": "stream",
          "text": [
            "+----------+---+-------------+------------------+\n",
            "|CustomerID|Age|TotalNumItems|  TotalAmountSpent|\n",
            "+----------+---+-------------+------------------+\n",
            "|     31946| 23|           39|12777.939999999999|\n",
            "|     26110| 25|           36|          11080.85|\n",
            "|     19854| 25|           28|           8507.85|\n",
            "|     17105| 20|           29| 7427.209999999997|\n",
            "|     17699| 20|           26| 7851.299999999999|\n",
            "|     21927| 21|           30|           9275.76|\n",
            "|      4183| 18|           19|           6316.32|\n",
            "|     27229| 18|           21|           6356.02|\n",
            "|     17596| 19|           27|           8838.59|\n",
            "|      6463| 20|           45|          14360.08|\n",
            "|      1863| 24|           27|10064.380000000001|\n",
            "|      9062| 19|           36| 9976.779999999999|\n",
            "|     12524| 24|           23|7513.2699999999995|\n",
            "|     29620| 21|           29|           7839.07|\n",
            "|     14710| 24|           31| 8896.519999999999|\n",
            "|     42081| 22|           41|          13340.56|\n",
            "|     44916| 19|           33| 8909.920000000002|\n",
            "|     48358| 19|           21|           5327.08|\n",
            "|     26274| 19|           25| 6726.090000000001|\n",
            "|     39317| 23|           26|            8339.5|\n",
            "+----------+---+-------------+------------------+\n",
            "only showing top 20 rows\n",
            "\n"
          ]
        }
      ],
      "source": [
        "spark = SparkSession.builder.appName(\"Task3\").getOrCreate()\n",
        "\n",
        "purchases_df = spark.read.csv(\"transactions.csv\", header=True, inferSchema=True)\n",
        "customer_df = spark.read.csv(\"customer.csv\", header=True, inferSchema=True)\n",
        "\n",
        "purchases_df.createOrReplaceTempView(\"PurchasesTable\")\n",
        "\n",
        "query = \"\"\"\n",
        "    SELECT *\n",
        "    FROM PurchasesTable\n",
        "    WHERE TransTotal <= 600\n",
        "\"\"\"\n",
        "\n",
        "filtered_purchases_df = spark.sql(query)\n",
        "\n",
        "joined_df = filtered_purchases_df.join(customer_df, filtered_purchases_df[\"CustID\"] == customer_df[\"ID\"])\n",
        "joined_df.createOrReplaceTempView(\"JoinedFilteredPurchasesTable\")\n",
        "\n",
        "query = \"\"\"\n",
        "    SELECT\n",
        "        CustID AS CustomerID,  -- Renaming the column to match the expected output\n",
        "        Age,\n",
        "        COUNT(TransNumItems) AS TotalNumItems,\n",
        "        SUM(TransTotal) AS TotalAmountSpent\n",
        "    FROM JoinedFilteredPurchasesTable\n",
        "    WHERE Age >= 18 AND Age <= 25\n",
        "    GROUP BY CustID, Age\n",
        "\"\"\"\n",
        "\n",
        "result_df = spark.sql(query)\n",
        "\n",
        "result_df.show()\n",
        "\n",
        "spark.stop()"
      ]
    },
    {
      "cell_type": "markdown",
      "id": "2a64225a",
      "metadata": {
        "id": "2a64225a"
      },
      "source": [
        "## Task 2.4"
      ]
    },
    {
      "cell_type": "code",
      "execution_count": null,
      "id": "3630decf",
      "metadata": {
        "id": "3630decf",
        "outputId": "4a3d64f8-3036-413d-b03d-5715b026f201"
      },
      "outputs": [
        {
          "name": "stdout",
          "output_type": "stream",
          "text": [
            "+-----+-----+----+----+------------------+------------------+---------------+---------------+\n",
            "|C1_ID|C2_ID|Age1|Age2|      TotalAmount1|      TotalAmount2|TotalItemCount1|TotalItemCount2|\n",
            "+-----+-----+----+----+------------------+------------------+---------------+---------------+\n",
            "|31946| 5411|  23|  24|12777.939999999999|11607.859999999999|             39|             42|\n",
            "|31946| 7350|  23|  25|12777.939999999999|11742.789999999999|             39|             41|\n",
            "|31946|22154|  23|  25|12777.939999999999|          11750.67|             39|             40|\n",
            "|31946|33473|  23|  24|12777.939999999999|11270.860000000002|             39|             40|\n",
            "|31946| 3964|  23|  25|12777.939999999999|11716.500000000002|             39|             40|\n",
            "|31946|34640|  23|  24|12777.939999999999|12006.230000000001|             39|             40|\n",
            "|31946|19792|  23|  25|12777.939999999999|            9896.6|             39|             40|\n",
            "|31946|18875|  23|  24|12777.939999999999|12714.660000000003|             39|             43|\n",
            "|31946|27635|  23|  24|12777.939999999999|           11586.6|             39|             41|\n",
            "|31946|15367|  23|  24|12777.939999999999|12199.440000000002|             39|             40|\n",
            "|31946|   44|  23|  25|12777.939999999999|          12571.12|             39|             41|\n",
            "|31946|39286|  23|  25|12777.939999999999|12166.880000000001|             39|             42|\n",
            "|31946|26607|  23|  24|12777.939999999999|          11640.51|             39|             41|\n",
            "|31946|12811|  23|  25|12777.939999999999|          12741.59|             39|             42|\n",
            "|31946|30642|  23|  24|12777.939999999999|          12226.86|             39|             40|\n",
            "|31946|33442|  23|  25|12777.939999999999|11450.070000000002|             39|             42|\n",
            "|31946|26490|  23|  25|12777.939999999999|11080.250000000002|             39|             42|\n",
            "|31946|  165|  23|  25|12777.939999999999|          11497.06|             39|             41|\n",
            "|31946| 3108|  23|  24|12777.939999999999|11302.579999999998|             39|             40|\n",
            "|31946|34003|  23|  25|12777.939999999999|          12098.55|             39|             42|\n",
            "+-----+-----+----+----+------------------+------------------+---------------+---------------+\n",
            "only showing top 20 rows\n",
            "\n"
          ]
        }
      ],
      "source": [
        "spark = SparkSession.builder.appName(\"Task4\").getOrCreate()\n",
        "\n",
        "purchases_df = spark.read.csv(\"transactions.csv\", header=True, inferSchema=True)\n",
        "customer_df = spark.read.csv(\"customer.csv\", header=True, inferSchema=True)\n",
        "\n",
        "purchases_df.createOrReplaceTempView(\"PurchasesTable\")\n",
        "\n",
        "query = \"\"\"\n",
        "    SELECT *\n",
        "    FROM PurchasesTable\n",
        "    WHERE TransTotal <= 600\n",
        "\"\"\"\n",
        "\n",
        "filtered_purchases_df = spark.sql(query)\n",
        "\n",
        "joined_df = filtered_purchases_df.join(customer_df, filtered_purchases_df[\"CustID\"] == customer_df[\"ID\"])\n",
        "\n",
        "joined_df.createOrReplaceTempView(\"JoinedFilteredPurchasesTable\")\n",
        "\n",
        "query = \"\"\"\n",
        "    SELECT\n",
        "        CustID AS CustomerID,  -- Renaming the column to match the expected output\n",
        "        Age,\n",
        "        COUNT(TransNumItems) AS TotalNumItems,\n",
        "        SUM(TransTotal) AS TotalAmountSpent\n",
        "    FROM JoinedFilteredPurchasesTable\n",
        "    WHERE Age >= 18 AND Age <= 25\n",
        "    GROUP BY CustID, Age\n",
        "\"\"\"\n",
        "\n",
        "result_df = spark.sql(query)\n",
        "\n",
        "result_df.createOrReplaceTempView(\"T3Table\")\n",
        "\n",
        "query = \"\"\"\n",
        "    SELECT\n",
        "        t1.CustomerID AS C1_ID,\n",
        "        t2.CustomerID AS C2_ID,\n",
        "        t1.Age AS Age1,\n",
        "        t2.Age AS Age2,\n",
        "        t1.TotalAmountSpent AS TotalAmount1,\n",
        "        t2.TotalAmountSpent AS TotalAmount2,\n",
        "        t1.TotalNumItems AS TotalItemCount1,\n",
        "        t2.TotalNumItems AS TotalItemCount2\n",
        "    FROM T3Table t1\n",
        "    JOIN T3Table t2 ON t1.Age < t2.Age AND t1.TotalAmountSpent > t2.TotalAmountSpent AND t1.TotalNumItems < t2.TotalNumItems\n",
        "\"\"\"\n",
        "\n",
        "result_t4_df = spark.sql(query)\n",
        "\n",
        "result_t4_df.show()\n",
        "\n",
        "spark.stop()"
      ]
    },
    {
      "cell_type": "code",
      "execution_count": null,
      "id": "c2ad2b31",
      "metadata": {
        "id": "c2ad2b31"
      },
      "outputs": [],
      "source": []
    }
  ],
  "metadata": {
    "kernelspec": {
      "display_name": "Python 3 (ipykernel)",
      "language": "python",
      "name": "python3"
    },
    "language_info": {
      "codemirror_mode": {
        "name": "ipython",
        "version": 3
      },
      "file_extension": ".py",
      "mimetype": "text/x-python",
      "name": "python",
      "nbconvert_exporter": "python",
      "pygments_lexer": "ipython3",
      "version": "3.11.4"
    },
    "colab": {
      "provenance": []
    }
  },
  "nbformat": 4,
  "nbformat_minor": 5
}